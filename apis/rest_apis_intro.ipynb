{
 "cells": [
  {
   "cell_type": "markdown",
   "id": "438fabe4-ba24-417a-935e-6ca0e47a1ec0",
   "metadata": {},
   "source": [
    "#  Rest APIS"
   ]
  },
  {
   "cell_type": "markdown",
   "id": "fb700481-e5bb-4db1-8568-7ab6a91f3e6e",
   "metadata": {},
   "source": [
    "Representational state transfer Appplication Programming Interface"
   ]
  },
  {
   "cell_type": "markdown",
   "id": "3128f74a-934e-488d-a5a1-40e5d6e8d046",
   "metadata": {},
   "source": [
    "- Computer readable information available in the internet"
   ]
  },
  {
   "cell_type": "code",
   "execution_count": 1,
   "id": "d01ee37d-6ada-4b81-a5ab-a3ac04999a29",
   "metadata": {},
   "outputs": [],
   "source": [
    "import requests"
   ]
  },
  {
   "cell_type": "markdown",
   "id": "5158c7de-8a4c-4d77-a93d-ddbe2cb4f7d3",
   "metadata": {},
   "source": [
    "1) Create a request"
   ]
  },
  {
   "cell_type": "code",
   "execution_count": 2,
   "id": "c454af3a-ee7b-4243-bb13-65a7f6cca8d0",
   "metadata": {},
   "outputs": [],
   "source": [
    "r = requests.get('https://newsapi.org/v2/everything?qInTitle=stock%20market&from=2023-05-18&to=2023-05-25&sortBy=popularity&language=en&apiKey=232083e9c72441509c717046236f8a6b')"
   ]
  },
  {
   "cell_type": "code",
   "execution_count": 3,
   "id": "70cdb94e-6c15-46e4-846a-882a70be0f7a",
   "metadata": {},
   "outputs": [],
   "source": [
    "content = r.json()"
   ]
  },
  {
   "cell_type": "code",
   "execution_count": 4,
   "id": "40759a67-a4c8-4233-a385-7e6b27bf85e6",
   "metadata": {},
   "outputs": [
    {
     "name": "stdout",
     "output_type": "stream",
     "text": [
      "Toronto stock market seen up but slowdown in China could crimp ...  Reuters Canada\n"
     ]
    }
   ],
   "source": [
    "print(content['articles'][0]['description'])"
   ]
  },
  {
   "cell_type": "code",
   "execution_count": 5,
   "id": "a2196e9d-ce6d-4ab7-8ce8-3238ca8265ab",
   "metadata": {},
   "outputs": [
    {
     "data": {
      "text/plain": [
       "dict_keys(['status', 'totalResults', 'articles'])"
      ]
     },
     "execution_count": 5,
     "metadata": {},
     "output_type": "execute_result"
    }
   ],
   "source": [
    "content.keys()"
   ]
  },
  {
   "cell_type": "code",
   "execution_count": 6,
   "id": "12f839b0-b0ea-4ed9-a52f-ec40afa5a2cd",
   "metadata": {},
   "outputs": [],
   "source": [
    "articles = content['articles']"
   ]
  },
  {
   "cell_type": "code",
   "execution_count": 7,
   "id": "68074fa6-61cc-4095-a3a5-93c146cfd487",
   "metadata": {},
   "outputs": [
    {
     "name": "stdout",
     "output_type": "stream",
     "text": [
      "Toronto stock market seen up but slowdown in China could crimp ... - Reuters Canada\n",
      "Investors have turned away from a key part of the stock market. Here's why.\n",
      "Trim some stock holdings and put them in cash as the market overestimates possible rate cuts, JPMorgan global market chief says\n",
      "The stock market could get buffeted by headwinds including the Fed-market rift on rates and credit-related risks, analyst says\n",
      "These 2 bullish indicators just flashed and point to a higher stock market going forward, research firm says\n",
      "The stock market has flipped from 'sell the rip' to 'buy the dip,' and that should help push the S&P 500 above a key resistance level\n",
      "Americans view gold as a better investment than stocks for the first time since 2013. Here's why that's a good sign for the stock market.\n",
      "Here's what has to happen for the stock market to solidify its latest rally after the S&P 500's breakout above a key resistance level\n",
      "Don't be fooled into thinking this year's stock rally is the start of a new bull market, Morgan Stanley's top strategist says\n",
      "Nvidia closes in on the $1 trillion market-cap club as the chipmaker's stock pops on glowing forecasts driven by the AI boom\n",
      "Nvidia CEO Jensen Huang just added $7 billion to his net worth after AI frenzy drives the chipmaker's stock to its biggest 1-day market value gain in history\n",
      "Market Snapshot: U.S. stock futures slip as debt-ceiling fretting lingers\n",
      "Michael Sincere's Long-Term Trader: These 3 popular investments help you manage risk when the stock market gets rough\n",
      "AI image of fake Pentagon explosion sparks stock market confusion\n",
      "Fake Images, Spread On Twitter, Fooled Media, Spooked Stock Market Briefly\n",
      "This Growth Stock Has Market-Beating Potential\n",
      "Why Meta Platforms Stock Beat the Market on Thursday\n",
      "Why Pfizer Stock Crushed the Market on Monday\n",
      "Why DLocal Stock Edged Past the Market Today\n",
      "Here's Why the Market Absolutely Hammered Digital Turbine Stock Today\n",
      "Why Chevron Stock Got Thumped by the Market Today\n",
      "A Bull Market Is Coming: 3 Reasons to Buy Wayfair Stock\n",
      "A Bull Market Is Coming: 3 Reasons to Buy Tractor Supply Stock\n",
      "A Bull Market Is Coming: 3 Reasons to Buy Chewy Stock\n",
      "A Bull Market Is Coming: 3 Reasons to Buy Roku Stock\n",
      "A Bull Market Is Coming: 3 Reasons to Buy Disney Stock Right Now\n",
      "Don't Wait for a Bull Market: 3 Smart Reasons to Buy McDonald's Stock Right Now\n",
      "3 Unstoppable Growth Stocks to Buy If There's a Stock Market Sell-Off\n",
      "One Top FAANG Stock That Should Crush the Market in 2023\n",
      "A Bull Market Is Coming: 3 Reasons to Buy DraftKings Stock\n",
      "A Bull Market Is Coming: 3 Reasons to Buy Home Depot Stock\n",
      "12 Reasons Warren Buffett Appears to Be Bearish About the Stock Market\n",
      "A Bull Market Is Coming: 3 Reasons to Buy Peloton Stock\n",
      "A Bull Market Is Coming: 3 Reasons to Buy Carvana Stock\n",
      "Has the Stock Market Hit Bottom? Here's a Better Question to Ask\n",
      "1 Growth Stock to Buy and Hold in a Market Downturn\n",
      "Why Robinhood's 24-Hour Market Isn't Enough to Make Me Buy the Stock\n",
      "A Bull Market Is Coming: 1 Remarkable Growth Stock Down 64% to Buy Now and Hold Forever\n",
      "A Bull Market Is Coming: 1 Artificial Intelligence (AI) Growth Stock to Buy Now and Hold Forever\n",
      "A Bull Market Is Coming -- 1 Incredible Growth Stock to Buy Hand Over Fist Before It Soars 1,058%, According to Wall Street\n",
      "This Stock Market Indicator Is 14 for 14 Since 1985, and It Has a Very Clear Message for Where Stocks Are Headed\n",
      "US stock market: S&P 500, Dow end sharply lower on deadlocked debt ceiling talks\n",
      "Wall St Week Ahead: Artificial intelligence gives real boost to U.S. stock market\n",
      "This Is Why The Stock Market Refuses To Go Down\n",
      "Stock market today: Live updates - CNBC\n",
      "Stock Market Today: Dow Futures Edge Up With Debt Ceiling Eyed - The Wall Street Journal\n",
      "Apple closes in on a $3 trillion stock market valuation\n",
      "Stock market today: Wall Street sinks as stocks tumble worldwide\n",
      "Today’s Biggest Pre-Market Stock Movers: 10 Top Gainers and Losers on Tuesday\n",
      "Stocks mixed amid debt debate, Walmart earnings: Stock market news today\n",
      "Stock market today: US futures follow global markets lower as US debt worries mount\n",
      "Stocks slide with debt talks, Fed minutes in focus: Stock market news today\n",
      "Microchip Technology Stock Shows Market Leadership With Jump To 81 RS Rating\n",
      "Marathon Digital Stock Shows Market Leadership With Jump To 89 RS Rating\n",
      "Cramer says AI is fueling the 'reacceleration of tech' in the stock market\n",
      "Japan’s long-suffering stock market is back. This boom may have ‘staying power’\n",
      "Stocks slide with debt talks, Fed minutes in focus: Stock market news today - Yahoo Finance\n",
      "Stock Market Strengthens As Nvidia Nvidia Props Up The Nasdaq ... - Investor's Business Daily\n",
      "Stock Market Today: Dow, S&P 500 Closer Higher With Debt-Ceiling Talks in Focus - The Wall Street Journal\n",
      "Stocks slip as debt crunch continues: Stock market news today\n",
      "Wall Street Is Rethinking Its Gloomy Outlook for Stock Market\n",
      "Stocks slide with debt talks, Fed minutes in focus: Stock market news today\n",
      "Tech Shares Likely To Boost South Korea Stock Market - Nasdaq\n",
      "Cramer says AI is fueling the 'reacceleration of tech' in the stock market - CNBC\n",
      "Stock Market Today: Dow Opens Lower; Nasdaq Rises as Nvidia Stock Jumps - The Wall Street Journal\n",
      "5 things to know before the stock market opens Thursday - CNBC\n",
      "Stock market today: Asian shares mostly rise on hopes for US debt deal, but China declines\n",
      "Stock Market Keeps Rallying, Defying Doom Scenarios\n",
      "Stock futures pop amid debt ceiling debate, Walmart earnings: Stock market news today\n",
      "Stock futures flat ahead of renewed debt talks: Stock market news today\n",
      "Stock futures slip as debt crunch continues: Stock market news today\n",
      "Stock futures slide with debt talks, Fed minutes in focus: Stock market news today\n",
      "Stocks sink as debt crunch continues: Stock market news today\n",
      "Nasdaq futures surge as Nvidia soars: Stock market news today\n",
      "Artificial intelligence gives real boost to U.S. stock market\n",
      "Memphasys Reaches AU$20m Market Cap Benefiting Insider Stock Buying \\\n",
      "Apple closes in on a $3 trillion stock market valuation\n",
      "Stocks mixed ahead of renewed debt talks: Stock market news today\n",
      "Fintel Plc's (LON:FNTL) Stock Has Been Sliding But Fundamentals Look Strong: Is The Market Wrong?\n",
      "Stock market today: Asian shares mostly rise despite worries about US debt talks\n",
      "Iluka Resources Limited's (ASX:ILU) Stock Been Rising: Are Strong Financials Guiding The Market?\n",
      "Declining Stock and Decent Financials: Is The Market Wrong About Von Roll Holding AG (VTX:ROL)?\n",
      "Declining Stock and Solid Fundamentals: Is The Market Wrong About SGL Carbon SE (ETR:SGL)?\n",
      "Stock market today: Asian stocks follow Wall St higher on hopes for US debt deal\n",
      "Flowserve Corporation's (NYSE:FLS) Fundamentals Look Pretty Strong: Could The Market Be Wrong About The Stock?\n",
      "NVIDIA Corporation's (NASDAQ:NVDA) Stock Is Going Strong: Is the Market Following Fundamentals?\n",
      "Cintas Corporation's (NASDAQ:CTAS) Stock Been Rising: Are Strong Financials Guiding The Market?\n",
      "Declining Stock and Solid Fundamentals: Is The Market Wrong About J.B. Hunt Transport Services, Inc. (NASDAQ:JBHT)?\n",
      "Teledyne Technologies Incorporated's (NYSE:TDY) Fundamentals Look Pretty Strong: Could The Market Be Wrong About The Stock?\n",
      "Declining Stock and Solid Fundamentals: Is The Market Wrong About National Fuel Gas Company (NYSE:NFG)?\n",
      "Nvidia is on track to break a stock market record held by Apple in the US\n",
      "Southern Copper Corporation's (NYSE:SCCO) Fundamentals Look Pretty Strong: Could The Market Be Wrong About The Stock?\n",
      "Declining Stock and Decent Financials: Is The Market Wrong About El Pollo Loco Holdings, Inc. (NASDAQ:LOCO)?\n",
      "Declining Stock and Solid Fundamentals: Is The Market Wrong About Kein Hing International Berhad (KLSE:KEINHIN)?\n",
      "Toronto stock market seen up but slowdown in China could crimp gains: Reuters poll\n",
      "Declining Stock and Decent Financials: Is The Market Wrong About Computer Modelling Group Ltd. (TSE:CMG)?\n",
      "Analysis-US debt ceiling crunch threatens to roil complacent stock market\n",
      "Coles Group Limited's (ASX:COL) Fundamentals Look Pretty Strong: Could The Market Be Wrong About The Stock?\n",
      "Declining Stock and Solid Fundamentals: Is The Market Wrong About Infoline Tec Group Berhad (KLSE:INFOTEC)?\n",
      "Anpario plc's (LON:ANP) Fundamentals Look Pretty Strong: Could The Market Be Wrong About The Stock?\n"
     ]
    }
   ],
   "source": [
    "for article in articles: \n",
    "    print(article['title'])"
   ]
  },
  {
   "cell_type": "code",
   "execution_count": null,
   "id": "d378f55e-47bd-49c9-bb75-8e3f9fdfeac5",
   "metadata": {},
   "outputs": [],
   "source": []
  }
 ],
 "metadata": {
  "kernelspec": {
   "display_name": "Python 3 (ipykernel)",
   "language": "python",
   "name": "python3"
  },
  "language_info": {
   "codemirror_mode": {
    "name": "ipython",
    "version": 3
   },
   "file_extension": ".py",
   "mimetype": "text/x-python",
   "name": "python",
   "nbconvert_exporter": "python",
   "pygments_lexer": "ipython3",
   "version": "3.10.9"
  }
 },
 "nbformat": 4,
 "nbformat_minor": 5
}
