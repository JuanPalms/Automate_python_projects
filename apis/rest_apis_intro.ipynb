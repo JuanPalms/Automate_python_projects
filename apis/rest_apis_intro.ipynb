{
 "cells": [
  {
   "cell_type": "markdown",
   "id": "438fabe4-ba24-417a-935e-6ca0e47a1ec0",
   "metadata": {},
   "source": [
    "#  Rest APIS"
   ]
  },
  {
   "cell_type": "markdown",
   "id": "fb700481-e5bb-4db1-8568-7ab6a91f3e6e",
   "metadata": {},
   "source": [
    "Representational state transfer Appplication Programming Interface"
   ]
  },
  {
   "cell_type": "markdown",
   "id": "3128f74a-934e-488d-a5a1-40e5d6e8d046",
   "metadata": {},
   "source": [
    "- Computer readable information available in the internet"
   ]
  },
  {
   "cell_type": "code",
   "execution_count": 2,
   "id": "d01ee37d-6ada-4b81-a5ab-a3ac04999a29",
   "metadata": {},
   "outputs": [],
   "source": [
    "import requests"
   ]
  },
  {
   "cell_type": "markdown",
   "id": "5158c7de-8a4c-4d77-a93d-ddbe2cb4f7d3",
   "metadata": {},
   "source": [
    "1) Create a request"
   ]
  },
  {
   "cell_type": "code",
   "execution_count": 12,
   "id": "c454af3a-ee7b-4243-bb13-65a7f6cca8d0",
   "metadata": {},
   "outputs": [],
   "source": [
    "r = requests.get('https://newsapi.org/v2/everything?qInTitle=stock%20market&from=2023-05-16&to=2023-05-25&sortBy=popularity&language=en&apiKey=232083e9c72441509c717046236f8a6b')"
   ]
  },
  {
   "cell_type": "code",
   "execution_count": 13,
   "id": "70cdb94e-6c15-46e4-846a-882a70be0f7a",
   "metadata": {},
   "outputs": [],
   "source": [
    "content = r.json()"
   ]
  },
  {
   "cell_type": "code",
   "execution_count": 14,
   "id": "40759a67-a4c8-4233-a385-7e6b27bf85e6",
   "metadata": {},
   "outputs": [
    {
     "name": "stdout",
     "output_type": "stream",
     "text": [
      "Toronto stock market seen up but slowdown in China could crimp ...  Reuters Canada\n"
     ]
    }
   ],
   "source": [
    "print(content['articles'][0]['description'])"
   ]
  }
 ],
 "metadata": {
  "kernelspec": {
   "display_name": "Python 3 (ipykernel)",
   "language": "python",
   "name": "python3"
  },
  "language_info": {
   "codemirror_mode": {
    "name": "ipython",
    "version": 3
   },
   "file_extension": ".py",
   "mimetype": "text/x-python",
   "name": "python",
   "nbconvert_exporter": "python",
   "pygments_lexer": "ipython3",
   "version": "3.10.9"
  }
 },
 "nbformat": 4,
 "nbformat_minor": 5
}
