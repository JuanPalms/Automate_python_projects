{
 "cells": [
  {
   "cell_type": "markdown",
   "id": "438fabe4-ba24-417a-935e-6ca0e47a1ec0",
   "metadata": {},
   "source": [
    "#  Rest APIS"
   ]
  },
  {
   "cell_type": "markdown",
   "id": "fb700481-e5bb-4db1-8568-7ab6a91f3e6e",
   "metadata": {},
   "source": [
    "Representational state transfer Appplication Programming Interface"
   ]
  },
  {
   "cell_type": "markdown",
   "id": "3128f74a-934e-488d-a5a1-40e5d6e8d046",
   "metadata": {},
   "source": [
    "- Computer readable information available in the internet"
   ]
  },
  {
   "cell_type": "code",
   "execution_count": 8,
   "id": "d01ee37d-6ada-4b81-a5ab-a3ac04999a29",
   "metadata": {},
   "outputs": [],
   "source": [
    "import requests"
   ]
  },
  {
   "cell_type": "markdown",
   "id": "5158c7de-8a4c-4d77-a93d-ddbe2cb4f7d3",
   "metadata": {},
   "source": [
    "1) Create a request"
   ]
  },
  {
   "cell_type": "code",
   "execution_count": 12,
   "id": "c454af3a-ee7b-4243-bb13-65a7f6cca8d0",
   "metadata": {},
   "outputs": [],
   "source": [
    "r = requests.get('https://newsapi.org/v2/everything?qInTitle=stock%20market&from=2023-05-27&to=2023-06-01&sortBy=popularity&language=en&apiKey=232083e9c72441509c717046236f8a6b')"
   ]
  },
  {
   "cell_type": "code",
   "execution_count": 13,
   "id": "70cdb94e-6c15-46e4-846a-882a70be0f7a",
   "metadata": {},
   "outputs": [],
   "source": [
    "content = r.json()"
   ]
  },
  {
   "cell_type": "code",
   "execution_count": 14,
   "id": "40759a67-a4c8-4233-a385-7e6b27bf85e6",
   "metadata": {},
   "outputs": [
    {
     "name": "stdout",
     "output_type": "stream",
     "text": [
      "The $5.3 trillion in money market funds represents 13% of the total US stock market capitalization, well below the 47% level hit in February 2009.\n"
     ]
    }
   ],
   "source": [
    "print(content['articles'][0]['description'])"
   ]
  },
  {
   "cell_type": "code",
   "execution_count": 15,
   "id": "a2196e9d-ce6d-4ab7-8ce8-3238ca8265ab",
   "metadata": {},
   "outputs": [
    {
     "data": {
      "text/plain": [
       "dict_keys(['status', 'totalResults', 'articles'])"
      ]
     },
     "execution_count": 15,
     "metadata": {},
     "output_type": "execute_result"
    }
   ],
   "source": [
    "content.keys()"
   ]
  },
  {
   "cell_type": "code",
   "execution_count": 16,
   "id": "12f839b0-b0ea-4ed9-a52f-ec40afa5a2cd",
   "metadata": {},
   "outputs": [],
   "source": [
    "articles = content['articles']"
   ]
  },
  {
   "cell_type": "code",
   "execution_count": 17,
   "id": "68074fa6-61cc-4095-a3a5-93c146cfd487",
   "metadata": {},
   "outputs": [
    {
     "name": "stdout",
     "output_type": "stream",
     "text": [
      "Here's why the $5 trillion piled up in money market funds might not flow back into the stock market\n",
      "The reason the stock market has stayed relatively stable amid economic chaos: computer-driven trading\n",
      "Prepare for more stock-market jitters after the debt-ceiling deal, Morgan Stanley warns\n",
      "Nvidia achieves $1 trillion market cap for the first time as AI-fueled stock surge continues\n",
      "The stock market's resilience could spur the Fed to keep interest rates higher for longer, market veteran Ed Yardeni says\n",
      "Lawrence G. McMillan: The stock market is finally showing positive signs — unless it’s just another head-fake\n",
      "Why Dell Technologies Stock Topped the Market on Thursday\n",
      "Better Bear Market Buy: Nvidia vs. AMD Stock\n",
      "Why Dollar General Stock Got Clobbered by the Market Today\n",
      "Got $80 per Week? How the Stock Market Could Turn It Into $1 Million\n",
      "Why Tomorrow Could Be a Huge Day for the Stock Market\n",
      "Uncovering the Best Stocks to Buy Now: Stock Market News and Investing Methodology\n",
      "10x Potential: This Warren Buffett Growth Stock Could Crush the Market\n",
      "A Bull Market Is Coming: 3 Reasons to Buy Coca-Cola Stock\n",
      "Prediction: These Stock Split Stocks Will Lead Gains in the Next Bull Market\n",
      "A Bull Market Is Coming: 3 Reasons to Buy Paramount Stock\n",
      "This Stock Market Indicator Is 20 for 20 Since 1928. Here's What It Says Could Be on the Way\n",
      "A Bull Market Is Coming: 1 Magnificent Growth Stock to Buy Hand Over Fist and Hold Forever\n",
      "A Bull Market Is Coming: 1 Phenomenal Growth Stock Down 72% to Buy Now and Hold Forever\n",
      "Stock futures slide with all eyes on debt-ceiling vote: Stock market news today\n",
      "Stock futures slide with all eyes on debt-ceiling vote: Stock market news today\n",
      "Stock Market Today: Dow Futures Fall After Weak China Data\n",
      "Stock market today: Wall Street slips as stocks slump worldwide\n",
      "Terry Savage: Which stock market? It matters when judging returns\n",
      "Stock market today: Wall Street slumps with markets worldwide\n",
      "India Reclaims Spot as World’s Fifth-Largest Stock Market\n",
      "Stock market today: Wall Street slumps with markets worldwide\n",
      "5 things to know before the stock market opens Wednesday\n",
      "Market Extra: ‘Potent liquidity squeeze’ threatens stock market once debt-ceiling deal is done\n",
      "Market Extra: ‘Potent liquidity squeeze’ threatens stock market once debt-ceiling deal is done\n",
      "Here's why the $5 trillion piled up in money market funds might not flow back into the stock market\n",
      "Stock market today: Asian shares mostly rise after House approves debt ceiling deal\n",
      "South Korea Is Wagering Its Stock Market Fortunes on MSCI’s ‘Developed’ Status\n",
      "Prepare for more stock-market jitters after the debt-ceiling deal, Morgan Stanley warns\n",
      "Gold: Debt-Ceiling Deal Is Done - Here's Why A Recession And Stock-Market Drop May Follow\n",
      "Jim Cramer's top 10 things to watch in the stock market Wednesday\n",
      "Stocks slide with all eyes on debt-ceiling vote: Stock market news today\n",
      "Stock market today: Asia shares mixed as investors await debt ceiling vote, eye China economy\n",
      "Stocks slide as debt ceiling vote looms, jobs data stays hot : Stock market news today\n",
      "'Potent liquidity squeeze' threatens stock market once debt-ceiling deal is done\n",
      "Stocks slide amid strong jobs data, looming debt ceiling vote: Stock market news today\n",
      "Stocks drift amid debt-ceiling drama, AI mania: Stock market news today\n",
      "Jim Cramer's top 10 things to watch in the stock market Wednesday\n",
      "Global Stock Market Shows Differing Growth Strides as Inflation Fears Remain\n",
      "Stock market today: Dow ends down as retailers weigh; House debt-ceiling vote eyed By\n",
      "Stock Market Today: Dow Futures Rise, Debt Deal Fallout, Premarket Movers, Crypto News\n",
      "Stocks slide as all eyes on debt ceiling vote: Stock market news today\n",
      "Gamers Are Angry At Stock Market Darling Nvidia—Here’s Why\n",
      "Stock Market Today: Dow Futures Fall, Debt Ceiling Vote, Premarket Movers, Crypto News, Nvidia Stock - Barron's\n",
      "Make savvy trades with the Tykr stock market app ($20 off)\n",
      "Memorial Day and the stock market - Fox Business\n",
      "NVDA Stock Hits $1 Trillion Market Cap - Investor's Business Daily\n",
      "Stock-market uncertainty could rise after debt-ceiling deal: Morgan Stanley - Business Insider\n",
      "Stock futures slide with all eyes on debt-ceiling vote: Stock market news today\n",
      "Analysis: Debt deal could boost unloved corners of U.S. stock market, though risks loom\n",
      "London still works for stock market listings, says We Soda boss\n",
      "Stock market picks: Evercore strategist shares his top 3 tech names - Markets Insider\n",
      "Tech Mahindra's stock plunges as market sentiment turns bearish | Mint - Mint\n",
      "Stock market seeing 'narrowest' rally since 1999 thanks to AI-led ... - Morningstar\n",
      "Stock Market Today: Dow Futures Fall After Weak China Data - The Wall Street Journal\n",
      "Stock market today: Asian shares mostly rise after House approves debt ceiling deal\n",
      "Stock market today: Asia shares mixed as investors await debt ceiling vote, eye China economy\n",
      "Stock futures edge up as House passes debt deal: Stock market news today\n",
      "Stock futures rise as debt deal faces next hurdle: Stock market news today\n",
      "Korea Creates Software to Boost Its $1.8 Trillion Stock Market\n",
      "Stock market today: Asian markets mostly higher after Biden-McCarthy deal on US debt\n",
      "MMA Offshore Limited's (ASX:MRM) Fundamentals Look Pretty Strong: Could The Market Be Wrong About The Stock?\n",
      "Declining Stock and Solid Fundamentals: Is The Market Wrong About BELIMO Holding AG (VTX:BEAN)?\n",
      "Signature International Berhad's (KLSE:SIGN) Fundamentals Look Pretty Strong: Could The Market Be Wrong About The Stock?\n",
      "Cambium Networks Corporation's (NASDAQ:CMBM) Fundamentals Look Pretty Strong: Could The Market Be Wrong About The Stock?\n",
      "Declining Stock and Solid Fundamentals: Is The Market Wrong About NWF Group plc (LON:NWF)?\n",
      "Alumexx N.V.'s (AMS:ALX) Stock Is Going Strong: Is the Market Following Fundamentals?\n",
      "Declining Stock and Decent Financials: Is The Market Wrong About Nexteq plc (LON:NXQ)?\n",
      "Stock market today: Asia shares mixed as investors await debt ceiling vote, eye China economy\n",
      "Declining Stock and Solid Fundamentals: Is The Market Wrong About Integrated Diagnostics Holdings plc (LON:IDHC)?\n",
      "Volution Group plc's (LON:FAN) Stock Is Going Strong: Is the Market Following Fundamentals?\n",
      "Stocks slide with all eyes on debt-ceiling vote: Stock market news today\n",
      "InNature Berhad's (KLSE:INNATURE) Fundamentals Look Pretty Strong: Could The Market Be Wrong About The Stock?\n",
      "Stock market today: Asian shares mostly rise after House approves debt ceiling deal\n",
      "Declining Stock and Decent Financials: Is The Market Wrong About EngageSmart, Inc. (NYSE:ESMT)?\n",
      "Declining Stock and Solid Fundamentals: Is The Market Wrong About Trimble Inc. (NASDAQ:TRMB)?\n",
      "Telekom Malaysia Berhad's (KLSE:TM) Stock Has Fared Decently: Is the Market Following Strong Financials?\n",
      "QL Resources Berhad's (KLSE:QL) Fundamentals Look Pretty Strong: Could The Market Be Wrong About The Stock?\n",
      "ESAB Corporation's (NYSE:ESAB) Stock Has Fared Decently: Is the Market Following Strong Financials?\n",
      "Skellerup Holdings Limited's (NZSE:SKL) Fundamentals Look Pretty Strong: Could The Market Be Wrong About The Stock?\n",
      "EZZ Life Science Holdings Limited's (ASX:EZZ) Stock Is Going Strong: Is the Market Following Fundamentals?\n",
      "Declining Stock and Solid Fundamentals: Is The Market Wrong About Resources Global Development Limited (Catalist:QSD)?\n",
      "Probiotec Limited's (ASX:PBP) Stock Is Going Strong: Is the Market Following Fundamentals?\n",
      "Declining Stock and Decent Financials: Is The Market Wrong About technotrans SE (ETR:TTR1)?\n",
      "Declining Stock and Decent Financials: Is The Market Wrong About VICOM Ltd (SGX:WJP)?\n",
      "South Korea Is Wagering Its Stock Market Fortunes on MSCI’s ‘Developed’ Status\n",
      "Declining Stock and Decent Financials: Is The Market Wrong About VAALCO Energy, Inc. (NYSE:EGY)?\n",
      "London still works for stock market listings, says We Soda boss\n",
      "Are OTS Holdings Limited's (Catalist:OTS) Mixed Financials The Reason For Its Gloomy Performance on The Stock Market?\n",
      "A-Sonic Aerospace Limited's (SGX:BTJ) Fundamentals Look Pretty Strong: Could The Market Be Wrong About The Stock?\n",
      "TreeHouse Foods, Inc.'s (NYSE:THS) Fundamentals Look Pretty Strong: Could The Market Be Wrong About The Stock?\n",
      "Wabash National Corporation's (NYSE:WNC) Stock Has Shown Weakness Lately But Financial Prospects Look Decent: Is The Market Wrong?\n",
      "Garmin Ltd.'s (NYSE:GRMN) Has Had A Decent Run On The Stock market: Are Fundamentals In The Driver's Seat?\n",
      "Radiant Globaltech Berhad's (KLSE:RGTECH) Stock Has Shown Weakness Lately But Financial Prospects Look Decent: Is The Market Wrong?\n",
      "Corning Incorporated's (NYSE:GLW) Stock Has Shown Weakness Lately But Financial Prospects Look Decent: Is The Market Wrong?\n"
     ]
    }
   ],
   "source": [
    "for article in articles: \n",
    "    print(article['title'])"
   ]
  },
  {
   "cell_type": "markdown",
   "id": "d9a4fa63-7de9-4de3-a740-ff563f0954a3",
   "metadata": {},
   "source": [
    "# Creating your own API"
   ]
  },
  {
   "cell_type": "markdown",
   "id": "411fb1b3-8f81-4200-923e-9d386c8c7ecc",
   "metadata": {},
   "source": [
    "An API is a web app, you need a framwork for web apps of python:\n",
    "- Flask\n",
    "- Django\n",
    "  \n",
    "An API is an small web apso flask works better for it"
   ]
  },
  {
   "cell_type": "code",
   "execution_count": 15,
   "id": "08b37d5d-3d26-4295-ab44-39acbae11919",
   "metadata": {},
   "outputs": [],
   "source": [
    "from flask import Flask, jsonify"
   ]
  },
  {
   "cell_type": "code",
   "execution_count": 16,
   "id": "5bb6ae4f-5c58-4670-9c46-afce267b413c",
   "metadata": {},
   "outputs": [],
   "source": [
    "app = Flask(__name__)"
   ]
  },
  {
   "cell_type": "code",
   "execution_count": 17,
   "id": "21287c72-4f88-43a5-ab65-558aab8c45e7",
   "metadata": {},
   "outputs": [],
   "source": [
    "## tow pages for the API\n",
    "# 1) Home page with the documentation of our API\n",
    "@app.route('/')\n",
    "def home():\n",
    "    return '<h1>Currrency Rate API</h1> <p>Example URL: /api/v1/usd-eur</p>'"
   ]
  },
  {
   "cell_type": "code",
   "execution_count": 21,
   "id": "e64481a1-c90b-47b7-aa5c-616d10490643",
   "metadata": {
    "scrolled": true
   },
   "outputs": [
    {
     "name": "stdout",
     "output_type": "stream",
     "text": [
      " * Serving Flask app '__main__'\n",
      " * Debug mode: off\n"
     ]
    },
    {
     "name": "stderr",
     "output_type": "stream",
     "text": [
      "\u001b[31m\u001b[1mWARNING: This is a development server. Do not use it in a production deployment. Use a production WSGI server instead.\u001b[0m\n",
      " * Running on http://127.0.0.1:5000\n",
      "\u001b[33mPress CTRL+C to quit\u001b[0m\n",
      "127.0.0.1 - - [24/Jun/2023 10:58:58] \"GET / HTTP/1.1\" 200 -\n",
      "[2023-06-24 10:59:08,242] ERROR in app: Exception on /api/v1/usd-eur [GET]\n",
      "Traceback (most recent call last):\n",
      "  File \"/home/juanpalms/anaconda3/envs/automate_env/lib/python3.10/site-packages/flask/app.py\", line 2528, in wsgi_app\n",
      "    response = self.full_dispatch_request()\n",
      "  File \"/home/juanpalms/anaconda3/envs/automate_env/lib/python3.10/site-packages/flask/app.py\", line 1825, in full_dispatch_request\n",
      "    rv = self.handle_user_exception(e)\n",
      "  File \"/home/juanpalms/anaconda3/envs/automate_env/lib/python3.10/site-packages/flask/app.py\", line 1823, in full_dispatch_request\n",
      "    rv = self.dispatch_request()\n",
      "  File \"/home/juanpalms/anaconda3/envs/automate_env/lib/python3.10/site-packages/flask/app.py\", line 1799, in dispatch_request\n",
      "    return self.ensure_sync(self.view_functions[rule.endpoint])(**view_args)\n",
      "  File \"/tmp/ipykernel_18676/2910537284.py\", line 3, in api\n",
      "    rate = get_currency_rate(in_cur, out_cur)\n",
      "  File \"/tmp/ipykernel_18676/2988771990.py\", line 3, in get_currency_rate\n",
      "    page = requests.get(url)\n",
      "NameError: name 'requests' is not defined\n",
      "127.0.0.1 - - [24/Jun/2023 10:59:08] \"\u001b[35m\u001b[1mGET /api/v1/usd-eur HTTP/1.1\u001b[0m\" 500 -\n"
     ]
    }
   ],
   "source": [
    "app.run()"
   ]
  },
  {
   "cell_type": "code",
   "execution_count": 19,
   "id": "af7f6114-85ee-4c0d-b04c-5954d8b45aca",
   "metadata": {},
   "outputs": [],
   "source": [
    "def get_currency_rate(in_cur, out_cur):\n",
    "    url=f'https://www.x-rates.com/calculator/?from={in_cur}&to={out_cur}&amount=1'\n",
    "    page = requests.get(url)\n",
    "    soup = BeautifulSoup(page.content, \"html.parser\")\n",
    "    rate = soup.find(id=\"content\").find(\"div\", class_=\"ccOutputBx\").find(\"span\",class_=\"ccOutputRslt\")\n",
    "    rate = rate.text\n",
    "    rate = float(rate.split(\" \")[0])\n",
    "    return rate"
   ]
  },
  {
   "cell_type": "code",
   "execution_count": 20,
   "id": "6db0b706-8aa8-4268-80d0-6c39c38b0c18",
   "metadata": {},
   "outputs": [],
   "source": [
    "@app.route('/api/v1/<in_cur>-<out_cur>')\n",
    "def api(in_cur, out_cur):\n",
    "    rate = get_currency_rate(in_cur, out_cur)\n",
    "    result_dictionary = {'input_currency':in_cur, 'output_currency':out_cur, 'rate':rate}\n",
    "    return jsonify(result_dictionary)\n",
    "    "
   ]
  },
  {
   "cell_type": "code",
   "execution_count": null,
   "id": "4dd30cdc-db5c-43ed-a4c2-44ca2b2cdf39",
   "metadata": {},
   "outputs": [],
   "source": []
  }
 ],
 "metadata": {
  "kernelspec": {
   "display_name": "Python 3 (ipykernel)",
   "language": "python",
   "name": "python3"
  },
  "language_info": {
   "codemirror_mode": {
    "name": "ipython",
    "version": 3
   },
   "file_extension": ".py",
   "mimetype": "text/x-python",
   "name": "python",
   "nbconvert_exporter": "python",
   "pygments_lexer": "ipython3",
   "version": "3.10.9"
  }
 },
 "nbformat": 4,
 "nbformat_minor": 5
}
