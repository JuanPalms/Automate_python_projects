{
 "cells": [
  {
   "cell_type": "markdown",
   "id": "15f2c9fe-cf1a-49b3-9e40-b54eb9959b00",
   "metadata": {},
   "source": [
    "# Intro to mail automation"
   ]
  },
  {
   "cell_type": "code",
   "execution_count": 1,
   "id": "67bc9363-1487-428d-bd50-7ed42bfe7115",
   "metadata": {},
   "outputs": [],
   "source": [
    "import os\n",
    "import sys\n",
    "import yagmail\n",
    "\n",
    "# Add the parent directory to sys.path\n",
    "current_dir = os.getcwd()\n",
    "parent_dir = os.path.dirname(current_dir)\n",
    "sys.path.insert(0, parent_dir)\n",
    "from outils import load_config"
   ]
  },
  {
   "cell_type": "markdown",
   "id": "88d59315-9c17-4f6a-9398-cedbd9452e0d",
   "metadata": {},
   "source": [
    "## Send a single simple email"
   ]
  },
  {
   "cell_type": "code",
   "execution_count": 2,
   "id": "42ee7d8e-dccf-49ad-a072-ed014377260b",
   "metadata": {},
   "outputs": [],
   "source": [
    "loggin_keys = load_config('logging_key.yaml')\n",
    "\n",
    "sender = 'palmeros.scrapp@gmail.com'\n",
    "\n",
    "receiver = 'juanfrancisco.palmeros@outlook.com'\n",
    "\n",
    "subject = \"First email automated\"\n",
    "\n",
    "content = \"\"\"\n",
    "Here is the content of the first email we are sending\n",
    "Hi!\n",
    "\"\"\""
   ]
  },
  {
   "cell_type": "code",
   "execution_count": 3,
   "id": "f19b0f56-8d8d-4a49-89a6-7973aaa78912",
   "metadata": {},
   "outputs": [
    {
     "data": {
      "text/plain": [
       "{}"
      ]
     },
     "execution_count": 3,
     "metadata": {},
     "output_type": "execute_result"
    }
   ],
   "source": [
    "yag = yagmail.SMTP(user= sender, password=loggin_keys['app_password_mail'])\n",
    "\n",
    "yag.send(to=receiver, subject=subject, contents=content)"
   ]
  },
  {
   "cell_type": "code",
   "execution_count": null,
   "id": "e34bf9d7-0bc6-4677-8a15-1a3067f3fc55",
   "metadata": {},
   "outputs": [],
   "source": []
  }
 ],
 "metadata": {
  "kernelspec": {
   "display_name": "Python 3 (ipykernel)",
   "language": "python",
   "name": "python3"
  },
  "language_info": {
   "codemirror_mode": {
    "name": "ipython",
    "version": 3
   },
   "file_extension": ".py",
   "mimetype": "text/x-python",
   "name": "python",
   "nbconvert_exporter": "python",
   "pygments_lexer": "ipython3",
   "version": "3.10.9"
  }
 },
 "nbformat": 4,
 "nbformat_minor": 5
}
