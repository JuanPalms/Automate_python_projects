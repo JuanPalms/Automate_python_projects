{
 "cells": [
  {
   "cell_type": "code",
   "execution_count": 1,
   "id": "1cd387ec-be6c-4d2c-b9e6-a256005598a4",
   "metadata": {},
   "outputs": [],
   "source": [
    "import os"
   ]
  },
  {
   "cell_type": "code",
   "execution_count": 2,
   "id": "3dc65165-2052-4005-8a94-c1b9fe8f8160",
   "metadata": {},
   "outputs": [
    {
     "data": {
      "text/plain": [
       "'/home/juanpalms/Desktop/Projects/automate_everything_python/paths_folders'"
      ]
     },
     "execution_count": 2,
     "metadata": {},
     "output_type": "execute_result"
    }
   ],
   "source": [
    "os.getcwd()"
   ]
  },
  {
   "cell_type": "code",
   "execution_count": 3,
   "id": "e50b3b71-b5ce-4ba8-a4be-f0b760398ea2",
   "metadata": {},
   "outputs": [],
   "source": [
    "from pathlib import Path\n",
    "from datetime import datetime"
   ]
  },
  {
   "cell_type": "code",
   "execution_count": 4,
   "id": "5881636c-d9e6-4776-ae0a-50773bf1d866",
   "metadata": {},
   "outputs": [],
   "source": [
    "root_dir = Path('/home/juanpalms/Desktop/tesis muncha')"
   ]
  },
  {
   "cell_type": "code",
   "execution_count": 5,
   "id": "eebe6b6f-61d6-47b8-ab45-754cbef5a88e",
   "metadata": {},
   "outputs": [],
   "source": [
    "file_paths = root_dir.glob(\"**/*\")"
   ]
  },
  {
   "cell_type": "code",
   "execution_count": 6,
   "id": "940d0b66-fabf-4822-9543-b7d3869caf4f",
   "metadata": {},
   "outputs": [
    {
     "data": {
      "text/plain": [
       "<generator object Path.glob at 0x7f2cec1b4f90>"
      ]
     },
     "execution_count": 6,
     "metadata": {},
     "output_type": "execute_result"
    }
   ],
   "source": [
    "file_paths"
   ]
  },
  {
   "cell_type": "code",
   "execution_count": 7,
   "id": "e7351a7c-6520-4b2d-ab47-b3b4777f2751",
   "metadata": {},
   "outputs": [
    {
     "name": "stdout",
     "output_type": "stream",
     "text": [
      "/home/juanpalms/Desktop/tesis muncha/2023-06-02_20:45_controles.png\n",
      "/home/juanpalms/Desktop/tesis muncha/2023-06-02_20:37_indice_redistribucion.png\n",
      "/home/juanpalms/Desktop/tesis muncha/2023-06-02_18:55_Diferencias_permutaciones_color.png\n",
      "/home/juanpalms/Desktop/tesis muncha/2023-05-26_20:49_dependientes.png\n",
      "/home/juanpalms/Desktop/tesis muncha/2023-06-02_18:53_Diferencias_permutaciones.png\n",
      "/home/juanpalms/Desktop/tesis muncha/2023-06-02_18:55_Diferencias_permutaciones_sexo.png\n",
      "/home/juanpalms/Desktop/tesis muncha/2023-06-02_20:38_independientes.png\n",
      "/home/juanpalms/Desktop/tesis muncha/2023-06-02_20:47_tesina.ipynb\n",
      "/home/juanpalms/Desktop/tesis muncha/2023-06-02_18:55_diferencia_medias_color.png\n",
      "/home/juanpalms/Desktop/tesis muncha/2023-06-02_20:37_redistribucion.png\n",
      "/home/juanpalms/Desktop/tesis muncha/2023-06-02_18:55_Diferencias_permutaciones_clases.png\n",
      "/home/juanpalms/Desktop/tesis muncha/2023-06-02_18:55_diferencia_medias_genero.png\n",
      "/home/juanpalms/Desktop/tesis muncha/2023-06-02_18:53_diferencia_medias.png\n",
      "/home/juanpalms/Desktop/tesis muncha/2023-06-02_18:53_prueba_visual_perms.png\n",
      "/home/juanpalms/Desktop/tesis muncha/2023-06-02_18:55_diferencia_medias_clase.png\n",
      "/home/juanpalms/Desktop/tesis muncha/2023-05-26_14:30_Mexico LAPOP AmericasBarometer 2019 v1.0_W (1) (1).dta\n",
      "/home/juanpalms/Desktop/tesis muncha/.ipynb_checkpoints/2023-05-31_23:57_Diferencias_permutaciones-checkpoint.png\n",
      "/home/juanpalms/Desktop/tesis muncha/.ipynb_checkpoints/2023-05-31_23:57_Diferencias_permutaciones_sexo-checkpoint.png\n",
      "/home/juanpalms/Desktop/tesis muncha/.ipynb_checkpoints/2023-05-31_23:57_diferencia_medias_genero-checkpoint.png\n",
      "/home/juanpalms/Desktop/tesis muncha/.ipynb_checkpoints/2023-05-31_23:11_diferencia_medias-checkpoint.png\n",
      "/home/juanpalms/Desktop/tesis muncha/.ipynb_checkpoints/2023-05-30_17:43_tesina-checkpoint.ipynb\n"
     ]
    }
   ],
   "source": [
    "for path in file_paths:\n",
    "    if path.is_file():\n",
    "        # The stats function gives information about a certain path\n",
    "        stats =  path.stat()\n",
    "        # the property after calling stats function can gives us the second of creation\n",
    "        second_created = stats.st_ctime\n",
    "        # converting to readable time for humans\n",
    "        # transform the seconds from 1970 to actual date time\n",
    "        date_created = datetime.fromtimestamp(second_created)\n",
    "        # choose the format of the date string\n",
    "        date_created_str = date_created.strftime(\"%Y-%m-%d_%H:%M\")+ \"_\"+path.name\n",
    "        new_filepath = path.with_name(date_created_str)\n",
    "        #ath.rename(new_filepath)\n",
    "        print(new_filepath)"
   ]
  },
  {
   "cell_type": "code",
   "execution_count": 14,
   "id": "0b75bf3f-7935-423f-a8b0-4b62a90cbf1d",
   "metadata": {},
   "outputs": [],
   "source": [
    "\"\"\"\n",
    "This python module implements names modification of files based on creation time of every file\n",
    "\"\"\"\n",
    "from pathlib import Path\n",
    "from datetime import datetime\n",
    "import argparse\n",
    "\n",
    "    \n",
    "root_dir = Path('files')\n",
    "file_paths = root_dir.glob(\"**/*.csv\")\n",
    "\n",
    "for path in file_paths:\n",
    "    if path.is_file():\n",
    "        #With suffix changes the extension of the file\n",
    "        new_suffix = path.with_suffix('.yaml')\n",
    "        path.rename(new_suffix)"
   ]
  },
  {
   "cell_type": "code",
   "execution_count": null,
   "id": "842aa9e4-755c-4e2b-9a8f-707ff9ce0a41",
   "metadata": {},
   "outputs": [],
   "source": []
  }
 ],
 "metadata": {
  "kernelspec": {
   "display_name": "Python 3 (ipykernel)",
   "language": "python",
   "name": "python3"
  },
  "language_info": {
   "codemirror_mode": {
    "name": "ipython",
    "version": 3
   },
   "file_extension": ".py",
   "mimetype": "text/x-python",
   "name": "python",
   "nbconvert_exporter": "python",
   "pygments_lexer": "ipython3",
   "version": "3.10.9"
  }
 },
 "nbformat": 4,
 "nbformat_minor": 5
}
