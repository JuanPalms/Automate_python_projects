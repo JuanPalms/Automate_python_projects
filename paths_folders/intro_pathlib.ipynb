{
 "cells": [
  {
   "cell_type": "markdown",
   "id": "d9ec49ab-0818-496a-8894-dacf94bd89fd",
   "metadata": {},
   "source": [
    "# Intro to the pathlib"
   ]
  },
  {
   "cell_type": "code",
   "execution_count": 1,
   "id": "9a19c446-3ec4-4e6e-9ec9-4d02f60b1048",
   "metadata": {},
   "outputs": [],
   "source": [
    "from pathlib import Path"
   ]
  },
  {
   "cell_type": "code",
   "execution_count": 3,
   "id": "debeb432-a4dc-4f57-bbef-7762ca1c5070",
   "metadata": {},
   "outputs": [
    {
     "name": "stdout",
     "output_type": "stream",
     "text": [
      "<class 'pathlib.PosixPath'>\n"
     ]
    }
   ],
   "source": [
    "p1 = Path('files/abc.txt')\n",
    "print(type(p1))"
   ]
  },
  {
   "cell_type": "code",
   "execution_count": 4,
   "id": "88f483e9-79b8-4260-a92d-a3e1a060ff78",
   "metadata": {},
   "outputs": [
    {
     "data": {
      "text/plain": [
       "['__bytes__',\n",
       " '__class__',\n",
       " '__class_getitem__',\n",
       " '__delattr__',\n",
       " '__dir__',\n",
       " '__doc__',\n",
       " '__enter__',\n",
       " '__eq__',\n",
       " '__exit__',\n",
       " '__format__',\n",
       " '__fspath__',\n",
       " '__ge__',\n",
       " '__getattribute__',\n",
       " '__gt__',\n",
       " '__hash__',\n",
       " '__init__',\n",
       " '__init_subclass__',\n",
       " '__le__',\n",
       " '__lt__',\n",
       " '__module__',\n",
       " '__ne__',\n",
       " '__new__',\n",
       " '__reduce__',\n",
       " '__reduce_ex__',\n",
       " '__repr__',\n",
       " '__rtruediv__',\n",
       " '__setattr__',\n",
       " '__sizeof__',\n",
       " '__slots__',\n",
       " '__str__',\n",
       " '__subclasshook__',\n",
       " '__truediv__',\n",
       " '_accessor',\n",
       " '_cached_cparts',\n",
       " '_cparts',\n",
       " '_drv',\n",
       " '_format_parsed_parts',\n",
       " '_from_parsed_parts',\n",
       " '_from_parts',\n",
       " '_hash',\n",
       " '_make_child',\n",
       " '_make_child_relpath',\n",
       " '_parse_args',\n",
       " '_parts',\n",
       " '_pparts',\n",
       " '_root',\n",
       " '_str',\n",
       " 'absolute',\n",
       " 'anchor',\n",
       " 'as_posix',\n",
       " 'as_uri',\n",
       " 'chmod',\n",
       " 'cwd',\n",
       " 'drive',\n",
       " 'exists',\n",
       " 'expanduser',\n",
       " 'glob',\n",
       " 'group',\n",
       " 'hardlink_to',\n",
       " 'home',\n",
       " 'is_absolute',\n",
       " 'is_block_device',\n",
       " 'is_char_device',\n",
       " 'is_dir',\n",
       " 'is_fifo',\n",
       " 'is_file',\n",
       " 'is_mount',\n",
       " 'is_relative_to',\n",
       " 'is_reserved',\n",
       " 'is_socket',\n",
       " 'is_symlink',\n",
       " 'iterdir',\n",
       " 'joinpath',\n",
       " 'lchmod',\n",
       " 'link_to',\n",
       " 'lstat',\n",
       " 'match',\n",
       " 'mkdir',\n",
       " 'name',\n",
       " 'open',\n",
       " 'owner',\n",
       " 'parent',\n",
       " 'parents',\n",
       " 'parts',\n",
       " 'read_bytes',\n",
       " 'read_text',\n",
       " 'readlink',\n",
       " 'relative_to',\n",
       " 'rename',\n",
       " 'replace',\n",
       " 'resolve',\n",
       " 'rglob',\n",
       " 'rmdir',\n",
       " 'root',\n",
       " 'samefile',\n",
       " 'stat',\n",
       " 'stem',\n",
       " 'suffix',\n",
       " 'suffixes',\n",
       " 'symlink_to',\n",
       " 'touch',\n",
       " 'unlink',\n",
       " 'with_name',\n",
       " 'with_stem',\n",
       " 'with_suffix',\n",
       " 'write_bytes',\n",
       " 'write_text']"
      ]
     },
     "execution_count": 4,
     "metadata": {},
     "output_type": "execute_result"
    }
   ],
   "source": [
    "dir(Path)"
   ]
  },
  {
   "cell_type": "code",
   "execution_count": 6,
   "id": "48e1d0dc-1dce-4a37-8424-8a87709398e0",
   "metadata": {},
   "outputs": [
    {
     "name": "stdout",
     "output_type": "stream",
     "text": [
      "Content\n",
      "\n"
     ]
    }
   ],
   "source": [
    "if p1.exists():\n",
    "    with open(p1, 'r') as file:\n",
    "        print(file.read())"
   ]
  },
  {
   "cell_type": "code",
   "execution_count": 7,
   "id": "97173f9b-70ff-451c-8cd0-4c2e83bc912f",
   "metadata": {},
   "outputs": [],
   "source": [
    "# Creating a path for a file that does not exitst\n",
    "p2 = Path('files/ghi.txt')"
   ]
  },
  {
   "cell_type": "code",
   "execution_count": 10,
   "id": "9536c845-d504-45c3-a723-266612cf3b01",
   "metadata": {},
   "outputs": [],
   "source": [
    "if not p2.exists():\n",
    "    with open(p2, 'w') as file:\n",
    "        file.write('Content 3')"
   ]
  },
  {
   "cell_type": "code",
   "execution_count": 11,
   "id": "1847def1-ca4d-4771-a916-df2b1ec1ee96",
   "metadata": {},
   "outputs": [
    {
     "name": "stdout",
     "output_type": "stream",
     "text": [
      "abc.txt\n"
     ]
    }
   ],
   "source": [
    "# Extract the name of the file from a file\n",
    "print(p1.name)"
   ]
  },
  {
   "cell_type": "code",
   "execution_count": 13,
   "id": "05a2e4cc-35c7-418f-8acf-6b4faf897929",
   "metadata": {},
   "outputs": [
    {
     "name": "stdout",
     "output_type": "stream",
     "text": [
      "abc\n"
     ]
    }
   ],
   "source": [
    "# filename withouth the extension\n",
    "print(p1.stem)"
   ]
  },
  {
   "cell_type": "code",
   "execution_count": 14,
   "id": "51ae3cfa-e77e-448e-a760-ee2ae8f45d9e",
   "metadata": {},
   "outputs": [
    {
     "name": "stdout",
     "output_type": "stream",
     "text": [
      ".txt\n"
     ]
    }
   ],
   "source": [
    "# Only the extension\n",
    "print(p1.suffix)"
   ]
  },
  {
   "cell_type": "markdown",
   "id": "89180f4e-ad31-4f52-9fc9-b725c7e23ff7",
   "metadata": {},
   "source": [
    "### Creating paths to folders"
   ]
  },
  {
   "cell_type": "code",
   "execution_count": 15,
   "id": "ad7fcffd-60fe-44fa-9ccd-bee9ecede7b6",
   "metadata": {},
   "outputs": [],
   "source": [
    "p2 = Path('files')"
   ]
  },
  {
   "cell_type": "code",
   "execution_count": 18,
   "id": "4f43114d-fc0d-47df-85e1-dc558cb35b88",
   "metadata": {},
   "outputs": [
    {
     "name": "stdout",
     "output_type": "stream",
     "text": [
      "<generator object Path.iterdir at 0x7f174f6e1d20>\n"
     ]
    }
   ],
   "source": [
    "print(p2.iterdir())"
   ]
  },
  {
   "cell_type": "code",
   "execution_count": 19,
   "id": "93579837-fed7-4744-90b2-07fd77883fdd",
   "metadata": {},
   "outputs": [
    {
     "name": "stdout",
     "output_type": "stream",
     "text": [
      "<class 'pathlib.PosixPath'>\n",
      "<class 'pathlib.PosixPath'>\n",
      "<class 'pathlib.PosixPath'>\n"
     ]
    }
   ],
   "source": [
    "for item in p2.iterdir():\n",
    "    print(type(item))"
   ]
  },
  {
   "cell_type": "code",
   "execution_count": null,
   "id": "d5e17b17-523b-458f-8b2e-0c8456ea7c59",
   "metadata": {},
   "outputs": [],
   "source": []
  }
 ],
 "metadata": {
  "kernelspec": {
   "display_name": "Python 3 (ipykernel)",
   "language": "python",
   "name": "python3"
  },
  "language_info": {
   "codemirror_mode": {
    "name": "ipython",
    "version": 3
   },
   "file_extension": ".py",
   "mimetype": "text/x-python",
   "name": "python",
   "nbconvert_exporter": "python",
   "pygments_lexer": "ipython3",
   "version": "3.10.9"
  }
 },
 "nbformat": 4,
 "nbformat_minor": 5
}
