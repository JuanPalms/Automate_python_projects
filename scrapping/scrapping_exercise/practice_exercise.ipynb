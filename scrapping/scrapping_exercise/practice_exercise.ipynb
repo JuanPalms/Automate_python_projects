{
 "cells": [
  {
   "cell_type": "markdown",
   "id": "36355443-f9a3-49ae-a0a7-9762ef5130b4",
   "metadata": {},
   "source": [
    "## Retail web scrapping"
   ]
  },
  {
   "cell_type": "code",
   "execution_count": 77,
   "id": "ce11f01d-0011-41a3-a9f4-144047218f55",
   "metadata": {},
   "outputs": [],
   "source": [
    "import os\n",
    "import sys\n",
    "import selenium\n",
    "import pandas as pd\n",
    "from selenium import webdriver\n",
    "from selenium.webdriver.chrome.service import Service\n",
    "from selenium.webdriver.common.keys import Keys\n",
    "from selenium.webdriver.common.by import By\n",
    "from selenium.webdriver.support.ui import WebDriverWait\n",
    "from selenium.webdriver.support import expected_conditions as EC\n",
    "import time"
   ]
  },
  {
   "cell_type": "code",
   "execution_count": 2,
   "id": "2e6691af-f899-4c3c-aec1-e36da45712c8",
   "metadata": {},
   "outputs": [],
   "source": [
    "# Add the parent directory to sys.path\n",
    "current_dir = os.getcwd()\n",
    "parent_dir = os.path.dirname(current_dir)\n",
    "sys.path.insert(0, parent_dir)"
   ]
  },
  {
   "cell_type": "code",
   "execution_count": 3,
   "id": "3210f4f0-cf0d-42f2-87c7-ad1b72fa6846",
   "metadata": {},
   "outputs": [],
   "source": [
    "from outils import load_config, get_driver, load_keys"
   ]
  },
  {
   "cell_type": "code",
   "execution_count": 4,
   "id": "9d594988-7a08-4c22-9805-bb2baef35e87",
   "metadata": {},
   "outputs": [],
   "source": [
    "keys_f = load_keys('logging_key.yaml')"
   ]
  },
  {
   "cell_type": "code",
   "execution_count": 100,
   "id": "a70ae492-99bf-4ccc-9653-9948b6df8386",
   "metadata": {},
   "outputs": [],
   "source": [
    "def logging(url):\n",
    "    \"\"\"\n",
    "    This module implements the logging and scrapping process of a reatual page \n",
    "    Args:\n",
    "    url (string): url to login\n",
    "    \"\"\"\n",
    "    tenis=[]\n",
    "    tenis_pd=pd.DataFrame()\n",
    "    driver=get_driver(url)\n",
    "    time.sleep(3)\n",
    "    driver.find_element(by = \"xpath\",value = \"/html/body/main/article/section/div/div[1]/form/div[1]/input\").send_keys(keys_f[\"logging_mail\"])\n",
    "    time.sleep(3)\n",
    "    driver.find_element(by = \"xpath\",value = \"/html/body/main/article/section/div/div[1]/form/div[2]/input\").send_keys(keys_f[\"logging_key\"]+ Keys.RETURN)\n",
    "    time.sleep(4)\n",
    "    driver.find_element(by = \"xpath\", value = \"/html/body/header/div[1]/div[1]/div/div[2]/nav[1]/ul/li[2]/a\" ).click()\n",
    "    time.sleep(4)\n",
    "    try:\n",
    "        for numero in range(1,100):\n",
    "            numero = \"/html/body/main/article/div/div/div/div[1]/section/div[3]/div[{}]/div/a\".format(numero)\n",
    "            element= driver.find_element(by = \"xpath\", value = numero).text.split(\"\\n\")\n",
    "            tenis.append(element)    \n",
    "    except:\n",
    "        for pagina in range(0,20):\n",
    "            try: \n",
    "                driver.find_element(By.LINK_TEXT, 'Next »').click()\n",
    "                time.sleep(3)\n",
    "                for numero in range(1,16):\n",
    "                    numero = \"/html/body/main/article/div/div/div/div[1]/section/div[3]/div[{}]/div/a\".format(numero)\n",
    "                    element= driver.find_element(by = \"xpath\", value = numero).text.split(\"\\n\")\n",
    "                    tenis.append(element)   \n",
    "            except:\n",
    "                print(f\"web scrapping stopped at {len(tenis)} element\")\n",
    "    return tenis, tenis_pd\n"
   ]
  },
  {
   "cell_type": "code",
   "execution_count": 101,
   "id": "0c3348a0-d082-4d26-9ba2-ccb97db56845",
   "metadata": {},
   "outputs": [],
   "source": [
    "path_retailer='https://titan22.com/account/login?return_url=%2Faccount'"
   ]
  },
  {
   "cell_type": "code",
   "execution_count": 102,
   "id": "a5ee6a0b-967d-4e5e-a4dd-955c2247675e",
   "metadata": {},
   "outputs": [
    {
     "name": "stdout",
     "output_type": "stream",
     "text": [
      "web scrapping stopped at 294 element\n",
      "web scrapping stopped at 294 element\n"
     ]
    }
   ],
   "source": [
    "tennis, df=logging(path_retailer)"
   ]
  },
  {
   "cell_type": "code",
   "execution_count": 151,
   "id": "d59143fd-1a9a-4572-a2cd-ea86cfb210a2",
   "metadata": {},
   "outputs": [],
   "source": [
    "df_tennis = pd.DataFrame(tennis, columns=['Marca', 'Modelo', 'Precio original','Precio descuento'])"
   ]
  },
  {
   "cell_type": "code",
   "execution_count": 152,
   "id": "64255ead-306a-4216-a420-5c3393bf0841",
   "metadata": {},
   "outputs": [],
   "source": [
    "df_tennis = (\n",
    "    df_tennis\n",
    "    # Extraer el numero de episodio\n",
    "    .assign(\n",
    "        nombre_producto = lambda df_: df_['Modelo'].str.split(\"'\").str[0].str.strip(),\n",
    "        estilo = lambda df_: df_['Modelo'].str.split(\"'\").str[1].str.strip(),\n",
    "        precio_original = lambda df_: (df_['Precio original'].str.replace('₱', '', regex=True)\n",
    "                                       .str.replace('.00', '', regex=False)\n",
    "                                       .str.replace(',', '', regex=False)),\n",
    "        precio_descuento = lambda df_: (df_['Precio descuento'].str.replace('₱', '', regex=True)\n",
    "                                       .str.replace('.00', '', regex=False)\n",
    "                                       .str.replace(',', '', regex=False))\n",
    "    )\n",
    "    .drop(columns=['Modelo','Precio original','Precio descuento'])\n",
    ")"
   ]
  },
  {
   "cell_type": "code",
   "execution_count": 153,
   "id": "27eedab2-bdda-4602-a156-59f9faeb95dc",
   "metadata": {},
   "outputs": [
    {
     "data": {
      "text/html": [
       "<div>\n",
       "<style scoped>\n",
       "    .dataframe tbody tr th:only-of-type {\n",
       "        vertical-align: middle;\n",
       "    }\n",
       "\n",
       "    .dataframe tbody tr th {\n",
       "        vertical-align: top;\n",
       "    }\n",
       "\n",
       "    .dataframe thead th {\n",
       "        text-align: right;\n",
       "    }\n",
       "</style>\n",
       "<table border=\"1\" class=\"dataframe\">\n",
       "  <thead>\n",
       "    <tr style=\"text-align: right;\">\n",
       "      <th></th>\n",
       "      <th>Marca</th>\n",
       "      <th>nombre_producto</th>\n",
       "      <th>estilo</th>\n",
       "      <th>precio_original</th>\n",
       "      <th>precio_descuento</th>\n",
       "    </tr>\n",
       "  </thead>\n",
       "  <tbody>\n",
       "    <tr>\n",
       "      <th>0</th>\n",
       "      <td>ADIDAS</td>\n",
       "      <td>adidas BYW Select</td>\n",
       "      <td>Jalen Green Philippines ID</td>\n",
       "      <td>8500</td>\n",
       "      <td>None</td>\n",
       "    </tr>\n",
       "    <tr>\n",
       "      <th>1</th>\n",
       "      <td>JORDAN</td>\n",
       "      <td>Air Jordan 1 Retro High OG</td>\n",
       "      <td>Light Smoke Grey</td>\n",
       "      <td>9895</td>\n",
       "      <td>None</td>\n",
       "    </tr>\n",
       "    <tr>\n",
       "      <th>2</th>\n",
       "      <td>JORDAN</td>\n",
       "      <td>Air Jordan 1 Retro High OG GS</td>\n",
       "      <td>Light Smoke Grey</td>\n",
       "      <td>6445</td>\n",
       "      <td>None</td>\n",
       "    </tr>\n",
       "    <tr>\n",
       "      <th>3</th>\n",
       "      <td>PUMA</td>\n",
       "      <td>Puma MB.02</td>\n",
       "      <td>Be You</td>\n",
       "      <td>9900</td>\n",
       "      <td>None</td>\n",
       "    </tr>\n",
       "    <tr>\n",
       "      <th>4</th>\n",
       "      <td>NIKE</td>\n",
       "      <td>Nike LeBron XX EP</td>\n",
       "      <td>Laser Orange</td>\n",
       "      <td>10895</td>\n",
       "      <td>None</td>\n",
       "    </tr>\n",
       "    <tr>\n",
       "      <th>...</th>\n",
       "      <td>...</td>\n",
       "      <td>...</td>\n",
       "      <td>...</td>\n",
       "      <td>...</td>\n",
       "      <td>...</td>\n",
       "    </tr>\n",
       "    <tr>\n",
       "      <th>289</th>\n",
       "      <td>JORDAN</td>\n",
       "      <td>Air Jordan 2 Retro x Maison Château Rouge</td>\n",
       "      <td>Orange and Sail</td>\n",
       "      <td>11495</td>\n",
       "      <td>None</td>\n",
       "    </tr>\n",
       "    <tr>\n",
       "      <th>290</th>\n",
       "      <td>NIKE SPORTSWEAR</td>\n",
       "      <td>Nike Blazer Low</td>\n",
       "      <td>77 Jumbo</td>\n",
       "      <td>5095</td>\n",
       "      <td>None</td>\n",
       "    </tr>\n",
       "    <tr>\n",
       "      <th>291</th>\n",
       "      <td>NIKE SPORTSWEAR</td>\n",
       "      <td>Nike Air Force 1</td>\n",
       "      <td>07</td>\n",
       "      <td>5495</td>\n",
       "      <td>None</td>\n",
       "    </tr>\n",
       "    <tr>\n",
       "      <th>292</th>\n",
       "      <td>NIKE SPORTSWEAR</td>\n",
       "      <td>Wmns Nike Air Force 1</td>\n",
       "      <td>07 Next Nature</td>\n",
       "      <td>5495</td>\n",
       "      <td>None</td>\n",
       "    </tr>\n",
       "    <tr>\n",
       "      <th>293</th>\n",
       "      <td>NIKE SPORTSWEAR</td>\n",
       "      <td>Wmns Nike Blazer Low</td>\n",
       "      <td>77</td>\n",
       "      <td>4295</td>\n",
       "      <td>None</td>\n",
       "    </tr>\n",
       "  </tbody>\n",
       "</table>\n",
       "<p>294 rows × 5 columns</p>\n",
       "</div>"
      ],
      "text/plain": [
       "               Marca                            nombre_producto  \\\n",
       "0             ADIDAS                          adidas BYW Select   \n",
       "1             JORDAN                 Air Jordan 1 Retro High OG   \n",
       "2             JORDAN              Air Jordan 1 Retro High OG GS   \n",
       "3               PUMA                                 Puma MB.02   \n",
       "4               NIKE                          Nike LeBron XX EP   \n",
       "..               ...                                        ...   \n",
       "289           JORDAN  Air Jordan 2 Retro x Maison Château Rouge   \n",
       "290  NIKE SPORTSWEAR                            Nike Blazer Low   \n",
       "291  NIKE SPORTSWEAR                           Nike Air Force 1   \n",
       "292  NIKE SPORTSWEAR                      Wmns Nike Air Force 1   \n",
       "293  NIKE SPORTSWEAR                       Wmns Nike Blazer Low   \n",
       "\n",
       "                         estilo precio_original precio_descuento  \n",
       "0    Jalen Green Philippines ID            8500             None  \n",
       "1              Light Smoke Grey            9895             None  \n",
       "2              Light Smoke Grey            6445             None  \n",
       "3                        Be You            9900             None  \n",
       "4                  Laser Orange           10895             None  \n",
       "..                          ...             ...              ...  \n",
       "289             Orange and Sail           11495             None  \n",
       "290                    77 Jumbo            5095             None  \n",
       "291                          07            5495             None  \n",
       "292              07 Next Nature            5495             None  \n",
       "293                          77            4295             None  \n",
       "\n",
       "[294 rows x 5 columns]"
      ]
     },
     "execution_count": 153,
     "metadata": {},
     "output_type": "execute_result"
    }
   ],
   "source": [
    "df_tennis"
   ]
  },
  {
   "cell_type": "code",
   "execution_count": null,
   "id": "ef2ddebb-c4c8-43c6-a563-52179807ca9d",
   "metadata": {},
   "outputs": [],
   "source": []
  }
 ],
 "metadata": {
  "kernelspec": {
   "display_name": "Python 3 (ipykernel)",
   "language": "python",
   "name": "python3"
  },
  "language_info": {
   "codemirror_mode": {
    "name": "ipython",
    "version": 3
   },
   "file_extension": ".py",
   "mimetype": "text/x-python",
   "name": "python",
   "nbconvert_exporter": "python",
   "pygments_lexer": "ipython3",
   "version": "3.10.9"
  }
 },
 "nbformat": 4,
 "nbformat_minor": 5
}
