{
 "cells": [
  {
   "cell_type": "markdown",
   "id": "36355443-f9a3-49ae-a0a7-9762ef5130b4",
   "metadata": {},
   "source": [
    "## Retail web scrapping"
   ]
  },
  {
   "cell_type": "code",
   "execution_count": 1,
   "id": "ce11f01d-0011-41a3-a9f4-144047218f55",
   "metadata": {},
   "outputs": [],
   "source": [
    "import os\n",
    "import sys\n",
    "from selenium import webdriver\n",
    "from selenium.webdriver.chrome.service import Service\n",
    "from selenium.webdriver.common.keys import Keys\n",
    "import time"
   ]
  },
  {
   "cell_type": "code",
   "execution_count": 2,
   "id": "2e6691af-f899-4c3c-aec1-e36da45712c8",
   "metadata": {},
   "outputs": [],
   "source": [
    "# Add the parent directory to sys.path\n",
    "current_dir = os.getcwd()\n",
    "parent_dir = os.path.dirname(current_dir)\n",
    "sys.path.insert(0, parent_dir)"
   ]
  },
  {
   "cell_type": "code",
   "execution_count": 3,
   "id": "3210f4f0-cf0d-42f2-87c7-ad1b72fa6846",
   "metadata": {},
   "outputs": [],
   "source": [
    "from outils import load_config, get_driver, load_keys"
   ]
  },
  {
   "cell_type": "code",
   "execution_count": 4,
   "id": "9d594988-7a08-4c22-9805-bb2baef35e87",
   "metadata": {},
   "outputs": [],
   "source": [
    "keys_f = load_keys('logging_key.yaml')"
   ]
  },
  {
   "cell_type": "code",
   "execution_count": null,
   "id": "4187bb7d-756c-4ecd-9c81-4463352cd9d0",
   "metadata": {},
   "outputs": [],
   "source": []
  },
  {
   "cell_type": "code",
   "execution_count": 31,
   "id": "a70ae492-99bf-4ccc-9653-9948b6df8386",
   "metadata": {},
   "outputs": [],
   "source": [
    "def logging(url):\n",
    "    \"\"\"\n",
    "    This module implements the logging and scrapping process of a reatual page \n",
    "    Args:\n",
    "    url (string): url to login\n",
    "    \"\"\"\n",
    "    tenis=[]\n",
    "    driver=get_driver(url)\n",
    "    time.sleep(3)\n",
    "    driver.find_element(by = \"xpath\",value = \"/html/body/main/article/section/div/div[1]/form/div[1]/input\").send_keys(keys_f[\"logging_mail\"])\n",
    "    time.sleep(3)\n",
    "    driver.find_element(by = \"xpath\",value = \"/html/body/main/article/section/div/div[1]/form/div[2]/input\").send_keys(keys_f[\"logging_key\"]+ Keys.RETURN)\n",
    "    time.sleep(4)\n",
    "    driver.find_element(by = \"xpath\", value = \"/html/body/header/div[1]/div[1]/div/div[2]/nav[1]/ul/li[2]/a\" ).click()\n",
    "    time.sleep(4)\n",
    "    try:\n",
    "        for numero in range(1,100):\n",
    "            numero = \"/html/body/main/article/div/div/div/div[1]/section/div[3]/div[{}]/div/a\".format(numero)\n",
    "            element= driver.find_element(by = \"xpath\", value = numero)\n",
    "            tenis.append(element.text)\n",
    "    except:\n",
    "        print(f\"web scrapping stopped at {len(tennis)} element\")\n",
    "    return tenis\n"
   ]
  },
  {
   "cell_type": "code",
   "execution_count": 32,
   "id": "8b075a3f-ed04-4de8-82a4-a940e7505bd9",
   "metadata": {},
   "outputs": [
    {
     "name": "stdout",
     "output_type": "stream",
     "text": [
      "/html/body/main/article/div/div/div/div[1]/section/div[3]/div[1]/div/a\n",
      "/html/body/main/article/div/div/div/div[1]/section/div[3]/div[2]/div/a\n",
      "/html/body/main/article/div/div/div/div[1]/section/div[3]/div[3]/div/a\n",
      "/html/body/main/article/div/div/div/div[1]/section/div[3]/div[4]/div/a\n",
      "/html/body/main/article/div/div/div/div[1]/section/div[3]/div[5]/div/a\n",
      "/html/body/main/article/div/div/div/div[1]/section/div[3]/div[6]/div/a\n",
      "/html/body/main/article/div/div/div/div[1]/section/div[3]/div[7]/div/a\n",
      "/html/body/main/article/div/div/div/div[1]/section/div[3]/div[8]/div/a\n",
      "/html/body/main/article/div/div/div/div[1]/section/div[3]/div[9]/div/a\n",
      "/html/body/main/article/div/div/div/div[1]/section/div[3]/div[10]/div/a\n",
      "/html/body/main/article/div/div/div/div[1]/section/div[3]/div[11]/div/a\n",
      "/html/body/main/article/div/div/div/div[1]/section/div[3]/div[12]/div/a\n",
      "/html/body/main/article/div/div/div/div[1]/section/div[3]/div[13]/div/a\n",
      "/html/body/main/article/div/div/div/div[1]/section/div[3]/div[14]/div/a\n",
      "/html/body/main/article/div/div/div/div[1]/section/div[3]/div[15]/div/a\n",
      "/html/body/main/article/div/div/div/div[1]/section/div[3]/div[16]/div/a\n"
     ]
    }
   ],
   "source": [
    "for valor in range(1,17):\n",
    "    value = \"/html/body/main/article/div/div/div/div[1]/section/div[3]/div[{}]/div/a\".format(valor)\n",
    "    print(value)"
   ]
  },
  {
   "cell_type": "code",
   "execution_count": 33,
   "id": "0c3348a0-d082-4d26-9ba2-ccb97db56845",
   "metadata": {},
   "outputs": [],
   "source": [
    "path_retailer='https://titan22.com/account/login?return_url=%2Faccount'"
   ]
  },
  {
   "cell_type": "code",
   "execution_count": 34,
   "id": "a5ee6a0b-967d-4e5e-a4dd-955c2247675e",
   "metadata": {},
   "outputs": [
    {
     "name": "stdout",
     "output_type": "stream",
     "text": [
      "web scrapping stopped at 16 element\n"
     ]
    }
   ],
   "source": [
    "tennis=logging(path_retailer)"
   ]
  },
  {
   "cell_type": "code",
   "execution_count": 35,
   "id": "d59143fd-1a9a-4572-a2cd-ea86cfb210a2",
   "metadata": {},
   "outputs": [
    {
     "data": {
      "text/plain": [
       "[\"JORDAN\\nAir Jordan 1 Retro High OG 'Light Smoke Grey'\\n₱9,895.00\",\n",
       " \"JORDAN\\nAir Jordan 1 Retro High OG GS 'Light Smoke Grey'\\n₱6,445.00\",\n",
       " \"PUMA\\nPuma MB.02 'Be You'\\n₱9,900.00\",\n",
       " \"NIKE\\nNike LeBron XX EP 'Laser Orange'\\n₱10,895.00\",\n",
       " \"JORDAN\\nWmns Air Jordan 5 Retro Low 'Indigo Haze'\\n₱9,895.00\",\n",
       " \"ADIDAS\\nadidas Forum Low 'Triple White'\\n₱5,500.00\",\n",
       " \"ADIDAS\\nadidas Agent Gil Restomod 'Zona'\\n₱7,500.00\",\n",
       " \"ADIDAS\\nadidas Rivalry Low 86 'White, Ink and Gold'\\n₱5,800.00\",\n",
       " \"ADIDAS\\nadidas Forum Low 84 'Chalk White and Sky Rush'\\n₱5,800.00\",\n",
       " \"NIKE SPORTSWEAR\\nWmns Nike Adjust Force 'White and Metallic Silver'\\n₱6,195.00\",\n",
       " \"JORDAN\\nJordan Air Ship SP 'Tech Grey'\\n₱7,895.00\",\n",
       " \"JORDAN\\nAir Jordan 3 Retro GS 'Animal Icon'\\n₱7,045.00\",\n",
       " \"JORDAN\\nAir Jordan 1 Low SE GS 'Kids Stand Alone'\\n₱5,295.00\",\n",
       " \"JORDAN\\nWmns Air Jordan 1 Low 'Sport Blue and Gym Red'\\n₱6,195.00\",\n",
       " \"JORDAN\\nWmns Air Jordan 1 Mid 'White and Sea Coral'\\n₱7,095.00\",\n",
       " \"JORDAN\\nJordan Why Not .6 PF 'EDGE'\\n₱8,395.00\"]"
      ]
     },
     "execution_count": 35,
     "metadata": {},
     "output_type": "execute_result"
    }
   ],
   "source": [
    "tennis"
   ]
  },
  {
   "cell_type": "code",
   "execution_count": null,
   "id": "62398b16-7e3a-4889-86f8-8244635d6e96",
   "metadata": {},
   "outputs": [],
   "source": [
    "/html/body/main/article/div/div/div/div[2]/div/span[8]"
   ]
  },
  {
   "cell_type": "code",
   "execution_count": null,
   "id": "b7feb344-8c9d-4f84-947d-9c05ccbc36c0",
   "metadata": {},
   "outputs": [],
   "source": [
    "/html/body/main/article/div/div/div/div[2]/div/span[6]"
   ]
  },
  {
   "cell_type": "code",
   "execution_count": null,
   "id": "ddc62159-3557-40ef-a4b6-b2739790c139",
   "metadata": {},
   "outputs": [],
   "source": [
    "/html/body/main/article/div/div/div/div[2]/div/span[9]/a"
   ]
  }
 ],
 "metadata": {
  "kernelspec": {
   "display_name": "Python 3 (ipykernel)",
   "language": "python",
   "name": "python3"
  },
  "language_info": {
   "codemirror_mode": {
    "name": "ipython",
    "version": 3
   },
   "file_extension": ".py",
   "mimetype": "text/x-python",
   "name": "python",
   "nbconvert_exporter": "python",
   "pygments_lexer": "ipython3",
   "version": "3.10.9"
  }
 },
 "nbformat": 4,
 "nbformat_minor": 5
}
