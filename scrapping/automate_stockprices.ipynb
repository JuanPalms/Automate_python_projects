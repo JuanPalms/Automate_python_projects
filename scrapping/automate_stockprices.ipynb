{
 "cells": [
  {
   "cell_type": "markdown",
   "id": "773c1ab3-d0a7-47a7-ad45-49499783d176",
   "metadata": {},
   "source": [
    "## Stock prices downloading automated"
   ]
  },
  {
   "cell_type": "code",
   "execution_count": 29,
   "id": "82a2c63b-1f92-4cbe-94d8-eab90b3c8e1e",
   "metadata": {},
   "outputs": [],
   "source": [
    "import requests\n",
    "import os\n",
    "from selenium import webdriver\n",
    "from selenium.webdriver.chrome.service import Service\n",
    "from selenium.webdriver.common.keys import Keys\n",
    "from selenium.webdriver.common.by import By\n",
    "import time\n",
    "from outils import load_config, get_driver"
   ]
  },
  {
   "cell_type": "markdown",
   "id": "c346fbb9-c25e-4253-8abd-e39d8e4691ea",
   "metadata": {},
   "source": [
    "### Option 1: Using the Requests api way"
   ]
  },
  {
   "cell_type": "code",
   "execution_count": 20,
   "id": "8750fb16-ed99-4870-b312-de16eee8e856",
   "metadata": {},
   "outputs": [],
   "source": [
    "historical_stocks_BAC = 'https://query1.finance.yahoo.com/v7/finance/download/BAC?period1=99100800&period2=1686700800&interval=1d&events=history&includeAdjustedClose=true'"
   ]
  },
  {
   "cell_type": "code",
   "execution_count": 21,
   "id": "1a256927-c237-4993-97de-751294a30135",
   "metadata": {},
   "outputs": [],
   "source": [
    "# We need the headers so we need to writte kind of a identifier"
   ]
  },
  {
   "cell_type": "code",
   "execution_count": 22,
   "id": "25120535-3708-4c85-a4a3-313b96045372",
   "metadata": {},
   "outputs": [],
   "source": [
    "headers = {\"User-Agent\": \"Mozilla/5.0 (X11; Linux x86_64) AppleWebKit/537.36 (KHTML, like Gecko) Chrome/88.0.4324.96 Safari/537.36\"} "
   ]
  },
  {
   "cell_type": "code",
   "execution_count": 23,
   "id": "ad594959-26c6-4bbc-aa83-492249076c9a",
   "metadata": {},
   "outputs": [],
   "source": [
    "content = requests.get(historical_stocks_BOA, headers=headers).content"
   ]
  },
  {
   "cell_type": "code",
   "execution_count": 24,
   "id": "0ca99a90-b681-4fc7-bfa7-d03c5cee2e4f",
   "metadata": {},
   "outputs": [],
   "source": [
    "## Using wb is a more general approach to download manyu kind of formats\n",
    "with open('data.csv','wb') as file:\n",
    "    file.write(content)"
   ]
  },
  {
   "cell_type": "markdown",
   "id": "5f041dce-e5b7-4e62-9a1a-0e7d867898b8",
   "metadata": {},
   "source": [
    "### Option 2: Using the Selenium way"
   ]
  },
  {
   "cell_type": "code",
   "execution_count": 26,
   "id": "688f28f6-493f-4fe6-83a7-be6f53342cf2",
   "metadata": {},
   "outputs": [],
   "source": [
    "url = 'https://finance.yahoo.com/quote/BAC/history?p=BAC'"
   ]
  },
  {
   "cell_type": "code",
   "execution_count": 30,
   "id": "257a370c-f82e-4711-8f90-e78c31f5d7f1",
   "metadata": {},
   "outputs": [],
   "source": [
    "driver=get_driver(url)\n",
    "time.sleep(2)\n",
    "driver.find_element(By.XPATH,value = \"/html/body/div[1]/div/div/div[1]/div/div[3]/div[1]/div/div[2]/div/div/section/div[1]/div[2]/span[2]/a/span\").click()"
   ]
  },
  {
   "cell_type": "code",
   "execution_count": null,
   "id": "0d58bf80-e7d6-49df-85e8-7209da2c1896",
   "metadata": {},
   "outputs": [],
   "source": []
  },
  {
   "cell_type": "code",
   "execution_count": null,
   "id": "6b6cf099-f779-42d1-b144-4543dc5b54be",
   "metadata": {},
   "outputs": [],
   "source": []
  }
 ],
 "metadata": {
  "kernelspec": {
   "display_name": "Python 3 (ipykernel)",
   "language": "python",
   "name": "python3"
  },
  "language_info": {
   "codemirror_mode": {
    "name": "ipython",
    "version": 3
   },
   "file_extension": ".py",
   "mimetype": "text/x-python",
   "name": "python",
   "nbconvert_exporter": "python",
   "pygments_lexer": "ipython3",
   "version": "3.10.9"
  }
 },
 "nbformat": 4,
 "nbformat_minor": 5
}
