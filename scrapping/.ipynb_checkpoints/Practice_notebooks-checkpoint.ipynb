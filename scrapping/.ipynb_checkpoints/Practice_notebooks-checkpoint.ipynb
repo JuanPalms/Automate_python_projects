{
 "cells": [
  {
   "cell_type": "markdown",
   "id": "6bad956f-a564-44cc-9b6e-9763c29c28a2",
   "metadata": {},
   "source": [
    "# Static and dinamyc web scrapping"
   ]
  },
  {
   "cell_type": "code",
   "execution_count": 24,
   "id": "bcccb99e-bd7e-4287-9d67-39109aa0196a",
   "metadata": {},
   "outputs": [],
   "source": [
    "import os\n",
    "from selenium import webdriver\n",
    "from selenium.webdriver.chrome.service import Service\n",
    "from selenium.webdriver.common.keys import Keys\n",
    "import time\n",
    "from outils import load_config"
   ]
  },
  {
   "cell_type": "code",
   "execution_count": 2,
   "id": "ea0bd390-17b7-4707-b5eb-8dccf8b0a1e2",
   "metadata": {},
   "outputs": [],
   "source": [
    "config_f = load_config('config.yaml')"
   ]
  },
  {
   "cell_type": "code",
   "execution_count": 3,
   "id": "5dc37ff7-e939-4ccb-b301-7a1ab4d42f6f",
   "metadata": {},
   "outputs": [],
   "source": [
    "def get_driver(url):\n",
    "    \"\"\"\n",
    "    This function creates a driver to connect into a web page using chrome driver\n",
    "    Args: \n",
    "    url (str) url containing url to parse\n",
    "    Returns:\n",
    "    driver\n",
    "    \"\"\"\n",
    "    driver_folder=config_f['driver_folder']\n",
    "    service = Service(os.path.join(driver_folder, \"chromedriver\"))\n",
    "    # Set options to make browsing easier\n",
    "    options = webdriver.ChromeOptions()\n",
    "    #this blocks pop ups bars\n",
    "    options.add_argument(\"disable-infobars\")\n",
    "    #make sure that the page starts maximized since some pages change content when minimized\n",
    "    options.add_argument(\"start-maximized\")\n",
    "    # particular issues for linux computers\n",
    "    options.add_argument(\"disable=dev-shm-usage\")\n",
    "    options.add_experimental_option(\"excludeSwitches\",[\"enable-automation\"])\n",
    "    options.add_argument(\"disable-blink-features=AutomationControlled\")\n",
    "    options.add_argument(\"no-sandbox\")\n",
    "    driver = webdriver.Chrome(options=options,service=service)\n",
    "    driver.get(url)\n",
    "    return driver"
   ]
  },
  {
   "cell_type": "code",
   "execution_count": 4,
   "id": "6dd84c6c-0744-49f3-a26b-83f8827bf5c8",
   "metadata": {},
   "outputs": [],
   "source": [
    "def clean_text(text):\n",
    "    \"\"\"\n",
    "    Extract only the number part of the text\n",
    "    \"\"\"\n",
    "    output = float(text.split(\": \")[1])\n",
    "    return output"
   ]
  },
  {
   "cell_type": "code",
   "execution_count": 5,
   "id": "271910eb-9a70-459f-903a-0a3220f3588d",
   "metadata": {},
   "outputs": [],
   "source": [
    "def main(url, value, type=\"static\"):\n",
    "    driver = get_driver(url)\n",
    "    time.sleep(3)\n",
    "    element = driver.find_element(by=\"xpath\", value=value)\n",
    "    if type ==\"dynamic\":\n",
    "        elemento = clean_text(element.text)\n",
    "    else: \n",
    "        elemento = element.text\n",
    "    return elemento"
   ]
  },
  {
   "cell_type": "code",
   "execution_count": 6,
   "id": "25d78656-44c0-47ef-bd2b-eae4af41a103",
   "metadata": {},
   "outputs": [],
   "source": [
    "url=\"http://automated.pythonanywhere.com/\""
   ]
  },
  {
   "cell_type": "code",
   "execution_count": 11,
   "id": "dfbf8263-6d67-4bbc-812e-5813d8e7a6ce",
   "metadata": {},
   "outputs": [
    {
     "name": "stdout",
     "output_type": "stream",
     "text": [
      "“For the things we have to learn before we can do them, we learn by doing them”- Aristotle\n"
     ]
    }
   ],
   "source": [
    "print(main(url=url, value=\"/html/body/div[1]/div/h1[1]\"))"
   ]
  },
  {
   "cell_type": "code",
   "execution_count": 12,
   "id": "880ad460-8bed-447b-b9f6-3ffa16bb45bc",
   "metadata": {},
   "outputs": [
    {
     "data": {
      "text/plain": [
       "22.0"
      ]
     },
     "execution_count": 12,
     "metadata": {},
     "output_type": "execute_result"
    }
   ],
   "source": [
    "main(url=url, value='/html/body/div[1]/div/h1[2]', type=\"dynamic\")"
   ]
  },
  {
   "cell_type": "markdown",
   "id": "1428976f-d577-4ae3-a79f-c592db926b19",
   "metadata": {},
   "source": [
    "## Log in and click web scrapping"
   ]
  },
  {
   "cell_type": "code",
   "execution_count": 9,
   "id": "f0e7b905-8dca-4254-b3b2-ace9d4795051",
   "metadata": {},
   "outputs": [],
   "source": [
    "url_logging=\"http://automated.pythonanywhere.com/login/\""
   ]
  },
  {
   "cell_type": "code",
   "execution_count": 36,
   "id": "51234427-9b46-4d98-92af-fa55e3cde9db",
   "metadata": {},
   "outputs": [],
   "source": [
    "def loggin_web():\n",
    "    \"\"\"\n",
    "    Logging and clicking of a browser\n",
    "    \"\"\"\n",
    "    # sets the driver\n",
    "    driver = get_driver(url_logging)\n",
    "    time.sleep(2)\n",
    "    # sends a username\n",
    "    driver.find_element(by=\"id\", value=\"id_username\").send_keys(\"automated\")\n",
    "    time.sleep(2)\n",
    "    # sends password and signs in with the provided username and password\n",
    "    driver.find_element(by=\"id\", value=\"id_password\").send_keys(\"automatedautomated\"+ Keys.RETURN)\n",
    "    time.sleep(2)\n",
    "    # clicks in home button\n",
    "    driver.find_element(by=\"xpath\", value=\"/html/body/nav/div/a\").click()\n",
    "    \n"
   ]
  },
  {
   "cell_type": "code",
   "execution_count": 37,
   "id": "34430bad-d79d-4e83-9d2e-b458d44483b8",
   "metadata": {},
   "outputs": [],
   "source": [
    "loggin_web()"
   ]
  },
  {
   "cell_type": "code",
   "execution_count": null,
   "id": "dacdc9ae-2a6b-490a-871a-c46120ab3f1e",
   "metadata": {},
   "outputs": [],
   "source": []
  }
 ],
 "metadata": {
  "kernelspec": {
   "display_name": "Python 3 (ipykernel)",
   "language": "python",
   "name": "python3"
  },
  "language_info": {
   "codemirror_mode": {
    "name": "ipython",
    "version": 3
   },
   "file_extension": ".py",
   "mimetype": "text/x-python",
   "name": "python",
   "nbconvert_exporter": "python",
   "pygments_lexer": "ipython3",
   "version": "3.10.9"
  }
 },
 "nbformat": 4,
 "nbformat_minor": 5
}
